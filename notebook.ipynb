{
 "cells": [
  {
   "cell_type": "markdown",
   "metadata": {},
   "source": [
    "# Keypoint MoSeq notebook for Busquets-Garcia Lab\n",
    "Welcome to this notebook, where you'll find the pipeline to analyze your DeepLabCut (DLC) data using Keypoint MoSeq. Thanks to this fantastic tool, you can make an unsupervised clustering of different behaviors (here, named syllables). "
   ]
  },
  {
   "cell_type": "markdown",
   "metadata": {},
   "source": [
    "## Importing necessary packages\n"
   ]
  },
  {
   "cell_type": "code",
   "execution_count": null,
   "metadata": {},
   "outputs": [],
   "source": []
  }
 ],
 "metadata": {
  "language_info": {
   "name": "python"
  }
 },
 "nbformat": 4,
 "nbformat_minor": 2
}
