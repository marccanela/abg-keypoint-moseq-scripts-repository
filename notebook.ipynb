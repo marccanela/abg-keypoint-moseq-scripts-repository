{
 "cells": [
  {
   "cell_type": "markdown",
   "metadata": {},
   "source": [
    "# Keypoint MoSeq notebook for Busquets-Garcia Lab\n",
    "Welcome to this notebook, where you'll find the pipeline to analyze your DeepLabCut (DLC) data using Keypoint MoSeq. Thanks to this fantastic tool, you can make an unsupervised clustering of different behaviors (here, named syllables). "
   ]
  },
  {
   "cell_type": "markdown",
   "metadata": {},
   "source": [
    "## Importing necessary packages and setting up\n",
    "Change the **project_dir** for the folder name where you want to store your output. Then, run the following cells."
   ]
  },
  {
   "cell_type": "code",
   "execution_count": null,
   "metadata": {},
   "outputs": [],
   "source": [
    "project_dir = 'demo_project'"
   ]
  },
  {
   "cell_type": "code",
   "execution_count": null,
   "metadata": {},
   "outputs": [],
   "source": [
    "import keypoint_moseq as kpms\n",
    "config = lambda: kpms.load_config(project_dir)\n",
    "\n",
    "dlc_config = 'dlc_project/config.yaml'\n",
    "kpms.setup_project(project_dir, deeplabcut_config=dlc_config)\n",
    "\n",
    "kpms.update_config(\n",
    "    project_dir,\n",
    "    video_dir='dlc_project/videos/',\n",
    "    anterior_bodyparts=['nose'],\n",
    "    posterior_bodyparts=['spine4'],\n",
    "    use_bodyparts=[\n",
    "        'spine4', 'spine3', 'spine2', 'spine1',\n",
    "        'head', 'nose', 'right ear', 'left ear'])"
   ]
  }
 ],
 "metadata": {
  "language_info": {
   "name": "python"
  }
 },
 "nbformat": 4,
 "nbformat_minor": 2
}
